{
 "cells": [
  {
   "cell_type": "code",
   "execution_count": 1,
   "metadata": {},
   "outputs": [],
   "source": [
    "import os\n",
    "import numpy as np\n",
    "import matplotlib.pyplot as plt\n",
    "import flopy.modflow as mf\n",
    "import flopy.utils as fu\n",
    "import shutil\n",
    "import json\n",
    "from scipy.misc import imresize\n",
    "\n",
    "%matplotlib inline"
   ]
  },
  {
   "cell_type": "code",
   "execution_count": 2,
   "metadata": {},
   "outputs": [],
   "source": [
    "central_base_model_path = os.path.join('central-base-model')\n",
    "landelino_model_path = os.path.join('landelino-model')"
   ]
  },
  {
   "cell_type": "code",
   "execution_count": 3,
   "metadata": {},
   "outputs": [],
   "source": [
    "if os.path.exists(landelino_model_path):\n",
    "    shutil.rmtree(landelino_model_path)\n",
    "    \n",
    "if not os.path.exists(landelino_model_path):\n",
    "    os.makedirs(landelino_model_path)"
   ]
  },
  {
   "cell_type": "code",
   "execution_count": 4,
   "metadata": {},
   "outputs": [],
   "source": [
    "extractRowsBetween = [6, 20]\n",
    "extractColsBetween = [49, 60]\n",
    "scaling_factor = 10\n",
    "\n",
    "def scale(factor, array):\n",
    "    if (len(array.shape) == 2):\n",
    "        layer = []\n",
    "        for row in array:\n",
    "            newRow = np.array(list(map(lambda v: np.ones(factor) * v, row))).reshape(-1)\n",
    "            for _ in range(factor): # or xrange if you are on 2.X\n",
    "                layer.append(newRow)\n",
    "\n",
    "        return layer\n",
    "    \n",
    "    if (len(array.shape) == 3):\n",
    "        layers = []\n",
    "        for layerData in array:\n",
    "            layer = []\n",
    "            for row in layerData:\n",
    "                newRow = np.array(list(map(lambda v: np.ones(factor) * v, row))).reshape(-1)\n",
    "                for _ in range(factor): # or xrange if you are on 2.X\n",
    "                    layer.append(newRow)\n",
    "\n",
    "            layers.append(layer)\n",
    "\n",
    "        return layers"
   ]
  },
  {
   "cell_type": "markdown",
   "metadata": {},
   "source": [
    "### Setup mf-package"
   ]
  },
  {
   "cell_type": "code",
   "execution_count": 5,
   "metadata": {},
   "outputs": [],
   "source": [
    "modelname = 'landelina'\n",
    "ml = mf.Modflow(modelname=modelname, exe_name='mf2005', version='mf2005', model_ws=landelino_model_path)"
   ]
  },
  {
   "cell_type": "markdown",
   "metadata": {},
   "source": [
    "### Setup dis-package"
   ]
  },
  {
   "cell_type": "code",
   "execution_count": 6,
   "metadata": {},
   "outputs": [],
   "source": [
    "nlay = 7\n",
    "nrow = 140\n",
    "ncol = 110\n",
    "\n",
    "area_width_y = 1400\n",
    "area_width_x = 1100\n",
    "\n",
    "delc = area_width_x/ncol\n",
    "delr = area_width_y/nrow\n",
    "\n",
    "nper = 1"
   ]
  },
  {
   "cell_type": "code",
   "execution_count": 7,
   "metadata": {},
   "outputs": [],
   "source": [
    "cbm = mf.Modflow.load(\"model.nam\", model_ws=central_base_model_path, verbose=False, check=False, exe_name=\"mf2000\")"
   ]
  },
  {
   "cell_type": "code",
   "execution_count": 8,
   "metadata": {},
   "outputs": [],
   "source": [
    "top = cbm.dis.top.array[extractRowsBetween[0]:extractRowsBetween[1], extractColsBetween[0]:extractColsBetween[1]]\n",
    "top = scale(scaling_factor, top)\n",
    "\n",
    "botm = cbm.dis.botm.array[:, extractRowsBetween[0]:extractRowsBetween[1], extractColsBetween[0]:extractColsBetween[1]]\n",
    "botm = scale(scaling_factor, botm)"
   ]
  },
  {
   "cell_type": "code",
   "execution_count": null,
   "metadata": {},
   "outputs": [
    {
     "data": {
      "text/plain": [
       "[<matplotlib.axes._subplots.AxesSubplot at 0x1a8080c2da0>,\n",
       " <matplotlib.axes._subplots.AxesSubplot at 0x1a80b15e470>,\n",
       " <matplotlib.axes._subplots.AxesSubplot at 0x1a80b195518>,\n",
       " <matplotlib.axes._subplots.AxesSubplot at 0x1a80b1c9c18>,\n",
       " <matplotlib.axes._subplots.AxesSubplot at 0x1a80b20d0b8>,\n",
       " <matplotlib.axes._subplots.AxesSubplot at 0x1a80b24c358>,\n",
       " <matplotlib.axes._subplots.AxesSubplot at 0x1a80b1e1668>,\n",
       " <matplotlib.axes._subplots.AxesSubplot at 0x1a80b2b9ac8>,\n",
       " <matplotlib.axes._subplots.AxesSubplot at 0x1a80b4c0780>,\n",
       " <matplotlib.axes._subplots.AxesSubplot at 0x1a80b537080>,\n",
       " <matplotlib.axes._subplots.AxesSubplot at 0x1a80b56b0f0>,\n",
       " <matplotlib.axes._subplots.AxesSubplot at 0x1a80b5a4da0>,\n",
       " <matplotlib.axes._subplots.AxesSubplot at 0x1a80b5e48d0>,\n",
       " <matplotlib.axes._subplots.AxesSubplot at 0x1a80b626470>,\n",
       " <matplotlib.axes._subplots.AxesSubplot at 0x1a80b658080>]"
      ]
     },
     "execution_count": 9,
     "metadata": {},
     "output_type": "execute_result"
    }
   ],
   "source": [
    "dis = mf.ModflowDis(\n",
    "    ml, \n",
    "    nlay=nlay,\n",
    "    nrow=nrow, \n",
    "    ncol=ncol, \n",
    "    delr=delr, \n",
    "    delc=delc, \n",
    "    top=top, \n",
    "    botm=botm, \n",
    "    nper=nper, \n",
    "    steady=False\n",
    ")\n",
    "\n",
    "dis.plot()"
   ]
  },
  {
   "cell_type": "markdown",
   "metadata": {},
   "source": [
    "### Setup Basic-Package"
   ]
  },
  {
   "cell_type": "code",
   "execution_count": null,
   "metadata": {},
   "outputs": [],
   "source": [
    "ibound = 1\n",
    "strt = cbm.bas6.strt.array[:, extractRowsBetween[0]:extractRowsBetween[1], extractColsBetween[0]:extractColsBetween[1]]\n",
    "strt = scale(scaling_factor, strt)\n",
    "bas = mf.ModflowBas(ml, ibound=ibound, strt=strt)\n",
    "bas.plot()"
   ]
  },
  {
   "cell_type": "markdown",
   "metadata": {},
   "source": [
    "### Setup General Head Boundaries"
   ]
  },
  {
   "cell_type": "markdown",
   "metadata": {},
   "source": [
    "lets take the start values here and extract the values for each border and layer"
   ]
  },
  {
   "cell_type": "code",
   "execution_count": null,
   "metadata": {},
   "outputs": [],
   "source": [
    "#  [lay, row, col, stage, cond]\n",
    "mask_arr = np.zeros((nlay, nrow, ncol))\n",
    "mask_arr[:, 0, :] = 1\n",
    "mask_arr[:, -1, :] = 1\n",
    "mask_arr[:, :, 0] = 1\n",
    "mask_arr[:, :, -1] = 1\n",
    "\n",
    "ghb_spd = {0: []}\n",
    "for layer_id in range(nlay):\n",
    "    for row_id in range(nrow):\n",
    "        for col_id in range(ncol):\n",
    "            if mask_arr[layer_id][row_id][col_id] == 1:\n",
    "                ghb_spd[0].append([layer_id, row_id, col_id, strt[layer_id][row_id][col_id], 200])\n",
    "\n",
    "ghb = mf.ModflowGhb(ml, stress_period_data=ghb_spd)\n",
    "ghb.plot()"
   ]
  },
  {
   "cell_type": "markdown",
   "metadata": {},
   "source": [
    "### Setup Recharge"
   ]
  },
  {
   "cell_type": "code",
   "execution_count": null,
   "metadata": {},
   "outputs": [],
   "source": [
    "rech = {}\n",
    "rech[0] = 0.00033\n",
    "rch = mf.ModflowRch(ml, rech=rech)\n",
    "\n",
    "rch.plot()"
   ]
  },
  {
   "cell_type": "code",
   "execution_count": null,
   "metadata": {},
   "outputs": [],
   "source": []
  },
  {
   "cell_type": "markdown",
   "metadata": {},
   "source": [
    "### Setup the well boundary"
   ]
  },
  {
   "cell_type": "markdown",
   "metadata": {},
   "source": [
    "Add wells here. Load from CSV and calculate layer."
   ]
  },
  {
   "cell_type": "code",
   "execution_count": null,
   "metadata": {},
   "outputs": [],
   "source": [
    "#welSp = {0: []}\n",
    "#wel = mf.ModflowWel(ml, stress_period_data=welSp)\n",
    "#wel.plot()"
   ]
  },
  {
   "cell_type": "markdown",
   "metadata": {},
   "source": [
    "### Setup Flow-Package"
   ]
  },
  {
   "cell_type": "code",
   "execution_count": null,
   "metadata": {},
   "outputs": [],
   "source": [
    "bcf = cbm.bcf6\n",
    "#print (bcf)\n",
    "hdry = bcf.hdry\n",
    "wetfct = bcf.wetfct\n",
    "ihdwet = bcf.ihdwet\n",
    "ipakcb = bcf.ipakcb\n",
    "iwdflg = bcf.iwdflg\n",
    "iwetit = bcf.iwetit\n",
    "intercellt = bcf.intercellt\n",
    "laycon = bcf.laycon\n",
    "trpy = bcf.trpy\n",
    "\n",
    "\n",
    "hy = bcf.hy.array[:, extractRowsBetween[0]:extractRowsBetween[1], extractColsBetween[0]:extractColsBetween[1]]\n",
    "\n",
    "sf1 = bcf.sf1.array[:, extractRowsBetween[0]:extractRowsBetween[1], extractColsBetween[0]:extractColsBetween[1]]\n",
    "sf2 = bcf.sf2.array[:, extractRowsBetween[0]:extractRowsBetween[1], extractColsBetween[0]:extractColsBetween[1]]\n",
    "tran = bcf.tran.array[:, extractRowsBetween[0]:extractRowsBetween[1], extractColsBetween[0]:extractColsBetween[1]]\n",
    "vcont = bcf.vcont.array[:, extractRowsBetween[0]:extractRowsBetween[1], extractColsBetween[0]:extractColsBetween[1]]\n",
    "wetdry = bcf.wetdry.array[:, extractRowsBetween[0]:extractRowsBetween[1], extractColsBetween[0]:extractColsBetween[1]]\n",
    "\n",
    "hy = scale(scaling_factor,hy)\n",
    "sf1 = scale(scaling_factor,sf1 )\n",
    "sf2 = scale(scaling_factor,sf2)\n",
    "tran = scale(scaling_factor,tran)\n",
    "vcont = scale(scaling_factor,vcont)\n",
    "wetdry = scale(scaling_factor,wetdry)\n",
    "\n",
    "bcf = mf.ModflowBcf(    ml,\n",
    "                        hdry = hdry, \n",
    "                        wetfct = wetfct,\n",
    "                        ihdwet = ihdwet,\n",
    "                        ipakcb = ipakcb ,\n",
    "                        iwdflg = iwdflg,\n",
    "                        iwetit = iwetit,\n",
    "                        hy = hy,\n",
    "                        intercellt = intercellt,\n",
    "                        sf1 = sf1,\n",
    "                        sf2 = sf2,\n",
    "                        tran = tran,\n",
    "                        trpy = trpy ,\n",
    "                        vcont = vcont,\n",
    "                        wetdry = wetdry,\n",
    "                        laycon = laycon,\n",
    "                        #filenames = 'model.cbc'\n",
    "                   )\n"
   ]
  },
  {
   "cell_type": "markdown",
   "metadata": {},
   "source": [
    "### Setup Solver Package and Output-control with defaults"
   ]
  },
  {
   "cell_type": "code",
   "execution_count": null,
   "metadata": {},
   "outputs": [],
   "source": [
    "pcg = mf.ModflowPcg(ml)\n",
    "oc = mf.ModflowOc(ml)"
   ]
  },
  {
   "cell_type": "code",
   "execution_count": null,
   "metadata": {},
   "outputs": [],
   "source": [
    "ml.write_input()\n",
    "ml.run_model()"
   ]
  },
  {
   "cell_type": "markdown",
   "metadata": {},
   "source": [
    "### Read output file"
   ]
  },
  {
   "cell_type": "code",
   "execution_count": null,
   "metadata": {
    "scrolled": true
   },
   "outputs": [],
   "source": [
    "hds = fu.HeadFile(os.path.join(landelino_model_path, modelname + '.hds'))\n",
    "times = hds.get_times()"
   ]
  },
  {
   "cell_type": "markdown",
   "metadata": {},
   "source": [
    "### Plot output file"
   ]
  },
  {
   "cell_type": "code",
   "execution_count": null,
   "metadata": {},
   "outputs": [],
   "source": [
    "hds.plot(totim=times[-1], colorbar=True, masked_values=[1e30])"
   ]
  },
  {
   "cell_type": "code",
   "execution_count": null,
   "metadata": {},
   "outputs": [],
   "source": []
  }
 ],
 "metadata": {
  "kernelspec": {
   "display_name": "Python 3",
   "language": "python",
   "name": "python3"
  },
  "language_info": {
   "codemirror_mode": {
    "name": "ipython",
    "version": 3
   },
   "file_extension": ".py",
   "mimetype": "text/x-python",
   "name": "python",
   "nbconvert_exporter": "python",
   "pygments_lexer": "ipython3",
   "version": "3.6.3"
  }
 },
 "nbformat": 4,
 "nbformat_minor": 2
}
